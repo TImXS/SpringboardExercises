{
 "cells": [
  {
   "cell_type": "markdown",
   "metadata": {},
   "source": [
    "# XML example and exercise\n",
    "****\n",
    "+ study examples of accessing nodes in XML tree structure  \n",
    "+ work on exercise to be completed and submitted\n",
    "****\n",
    "+ reference: https://docs.python.org/2.7/library/xml.etree.elementtree.html\n",
    "+ data source: http://www.dbis.informatik.uni-goettingen.de/Mondial\n",
    "****"
   ]
  },
  {
   "cell_type": "code",
   "execution_count": 1,
   "metadata": {
    "collapsed": true
   },
   "outputs": [],
   "source": [
    "from xml.etree import ElementTree as ET\n",
    "import pandas as pd"
   ]
  },
  {
   "cell_type": "markdown",
   "metadata": {},
   "source": [
    "## XML example\n",
    "\n",
    "+ for details about tree traversal and iterators, see https://docs.python.org/2.7/library/xml.etree.elementtree.html"
   ]
  },
  {
   "cell_type": "code",
   "execution_count": 2,
   "metadata": {
    "collapsed": true
   },
   "outputs": [],
   "source": [
    "document_tree = ET.parse( './data/mondial_database_less.xml' )"
   ]
  },
  {
   "cell_type": "code",
   "execution_count": 7,
   "metadata": {
    "collapsed": false
   },
   "outputs": [
    {
     "name": "stdout",
     "output_type": "stream",
     "text": [
      "Albania\n",
      "Greece\n",
      "Macedonia\n",
      "Serbia\n",
      "Montenegro\n",
      "Kosovo\n",
      "Andorra\n"
     ]
    }
   ],
   "source": [
    "# print names of all countries\n",
    "for child in document_tree.getroot():\n",
    "    print(child.find('name').text)"
   ]
  },
  {
   "cell_type": "code",
   "execution_count": 15,
   "metadata": {
    "collapsed": false
   },
   "outputs": [
    {
     "name": "stdout",
     "output_type": "stream",
     "text": [
      "* Albania:\n",
      "Tirana, Shkodër, Durrës, Vlorë, Elbasan, Korçë\n",
      "* Greece:\n",
      "Komotini, Kavala, Athina, Peiraias, Peristeri, Acharnes, Patra, Kozani, Kerkyra, Ioannina, Thessaloniki, Iraklio, Chania, Ermoupoli, Rhodes, Tripoli, Lamia, Chalkida, Larissa, Volos, Mytilini, Karyes\n",
      "* Macedonia:\n",
      "Skopje, Kumanovo\n",
      "* Serbia:\n",
      "Beograd, Novi Sad, Niš\n",
      "* Montenegro:\n",
      "Podgorica\n",
      "* Kosovo:\n",
      "Prishtine\n",
      "* Andorra:\n",
      "Andorra la Vella\n"
     ]
    }
   ],
   "source": [
    "# print names of all countries and their cities\n",
    "for element in document_tree.iterfind('country'):\n",
    "    print('* ' + element.find('name').text + ':'),\n",
    "    capitals_string = ''\n",
    "    for subelement in element.getiterator('city'):\n",
    "        capitals_string += subelement.find('name').text + ', '\n",
    "    print(capitals_string[:-2])"
   ]
  },
  {
   "cell_type": "markdown",
   "metadata": {},
   "source": [
    "****\n",
    "## XML exercise\n",
    "\n",
    "Using data in 'data/mondial_database.xml', the examples above, and refering to https://docs.python.org/2.7/library/xml.etree.elementtree.html, find\n",
    "\n",
    "1. 10 countries with the lowest infant mortality rates\n",
    "2. 10 cities with the largest population\n",
    "3. 10 ethnic groups with the largest overall populations (sum of best/latest estimates over all countries)\n",
    "4. name and country of a) longest river, b) largest lake and c) airport at highest elevation"
   ]
  },
  {
   "cell_type": "code",
   "execution_count": 43,
   "metadata": {
    "collapsed": true
   },
   "outputs": [],
   "source": [
    "document_tree = ET.parse( './data/mondial_database.xml' )"
   ]
  },
  {
   "cell_type": "code",
   "execution_count": 141,
   "metadata": {
    "collapsed": false
   },
   "outputs": [
    {
     "data": {
      "text/html": [
       "<div>\n",
       "<table border=\"1\" class=\"dataframe\">\n",
       "  <thead>\n",
       "    <tr style=\"text-align: right;\">\n",
       "      <th></th>\n",
       "      <th>Country</th>\n",
       "      <th>Mortality rate</th>\n",
       "    </tr>\n",
       "  </thead>\n",
       "  <tbody>\n",
       "    <tr>\n",
       "      <th>57</th>\n",
       "      <td>Monaco</td>\n",
       "      <td>1.81</td>\n",
       "    </tr>\n",
       "    <tr>\n",
       "      <th>71</th>\n",
       "      <td>Japan</td>\n",
       "      <td>2.13</td>\n",
       "    </tr>\n",
       "    <tr>\n",
       "      <th>18</th>\n",
       "      <td>Norway</td>\n",
       "      <td>2.48</td>\n",
       "    </tr>\n",
       "    <tr>\n",
       "      <th>156</th>\n",
       "      <td>Bermuda</td>\n",
       "      <td>2.48</td>\n",
       "    </tr>\n",
       "    <tr>\n",
       "      <th>222</th>\n",
       "      <td>Singapore</td>\n",
       "      <td>2.53</td>\n",
       "    </tr>\n",
       "    <tr>\n",
       "      <th>210</th>\n",
       "      <td>Sweden</td>\n",
       "      <td>2.60</td>\n",
       "    </tr>\n",
       "    <tr>\n",
       "      <th>170</th>\n",
       "      <td>Czech Republic</td>\n",
       "      <td>2.63</td>\n",
       "    </tr>\n",
       "    <tr>\n",
       "      <th>10</th>\n",
       "      <td>Hong Kong</td>\n",
       "      <td>2.73</td>\n",
       "    </tr>\n",
       "    <tr>\n",
       "      <th>190</th>\n",
       "      <td>Macao</td>\n",
       "      <td>3.13</td>\n",
       "    </tr>\n",
       "    <tr>\n",
       "      <th>209</th>\n",
       "      <td>Iceland</td>\n",
       "      <td>3.15</td>\n",
       "    </tr>\n",
       "  </tbody>\n",
       "</table>\n",
       "</div>"
      ],
      "text/plain": [
       "            Country  Mortality rate\n",
       "57           Monaco            1.81\n",
       "71            Japan            2.13\n",
       "18           Norway            2.48\n",
       "156         Bermuda            2.48\n",
       "222       Singapore            2.53\n",
       "210          Sweden            2.60\n",
       "170  Czech Republic            2.63\n",
       "10        Hong Kong            2.73\n",
       "190           Macao            3.13\n",
       "209         Iceland            3.15"
      ]
     },
     "execution_count": 141,
     "metadata": {},
     "output_type": "execute_result"
    }
   ],
   "source": [
    "#1\n",
    "document_tree = ET.parse( './data/mondial_database.xml' )\n",
    "dic={}\n",
    "for child in document_tree.getroot():\n",
    "    if child.find('infant_mortality') is not None:\n",
    "        dic[child.find('name').text]=float(child.find('infant_mortality').text)\n",
    "df=pd.DataFrame(list(dic.items()), columns=['Country', 'Mortality rate'])\n",
    "df.sort_values(by='Mortality rate', ascending=True).head(10)"
   ]
  },
  {
   "cell_type": "code",
   "execution_count": 140,
   "metadata": {
    "collapsed": false
   },
   "outputs": [
    {
     "data": {
      "text/html": [
       "<div>\n",
       "<table border=\"1\" class=\"dataframe\">\n",
       "  <thead>\n",
       "    <tr style=\"text-align: right;\">\n",
       "      <th></th>\n",
       "      <th>City</th>\n",
       "      <th>Latest Population</th>\n",
       "    </tr>\n",
       "  </thead>\n",
       "  <tbody>\n",
       "    <tr>\n",
       "      <th>1969</th>\n",
       "      <td>China: Shanghai</td>\n",
       "      <td>22315474</td>\n",
       "    </tr>\n",
       "    <tr>\n",
       "      <th>1218</th>\n",
       "      <td>Turkey: Istanbul</td>\n",
       "      <td>13710512</td>\n",
       "    </tr>\n",
       "    <tr>\n",
       "      <th>2320</th>\n",
       "      <td>India: Mumbai</td>\n",
       "      <td>12442373</td>\n",
       "    </tr>\n",
       "    <tr>\n",
       "      <th>2166</th>\n",
       "      <td>Russia: Moskva</td>\n",
       "      <td>11979529</td>\n",
       "    </tr>\n",
       "    <tr>\n",
       "      <th>1444</th>\n",
       "      <td>China: Beijing</td>\n",
       "      <td>11716620</td>\n",
       "    </tr>\n",
       "    <tr>\n",
       "      <th>3000</th>\n",
       "      <td>Brazil: São Paulo</td>\n",
       "      <td>11152344</td>\n",
       "    </tr>\n",
       "    <tr>\n",
       "      <th>346</th>\n",
       "      <td>China: Tianjin</td>\n",
       "      <td>11090314</td>\n",
       "    </tr>\n",
       "    <tr>\n",
       "      <th>2487</th>\n",
       "      <td>China: Guangzhou</td>\n",
       "      <td>11071424</td>\n",
       "    </tr>\n",
       "    <tr>\n",
       "      <th>2385</th>\n",
       "      <td>India: Delhi</td>\n",
       "      <td>11034555</td>\n",
       "    </tr>\n",
       "    <tr>\n",
       "      <th>938</th>\n",
       "      <td>China: Shenzhen</td>\n",
       "      <td>10358381</td>\n",
       "    </tr>\n",
       "  </tbody>\n",
       "</table>\n",
       "</div>"
      ],
      "text/plain": [
       "                   City  Latest Population\n",
       "1969    China: Shanghai           22315474\n",
       "1218   Turkey: Istanbul           13710512\n",
       "2320      India: Mumbai           12442373\n",
       "2166     Russia: Moskva           11979529\n",
       "1444     China: Beijing           11716620\n",
       "3000  Brazil: São Paulo           11152344\n",
       "346      China: Tianjin           11090314\n",
       "2487   China: Guangzhou           11071424\n",
       "2385       India: Delhi           11034555\n",
       "938     China: Shenzhen           10358381"
      ]
     },
     "execution_count": 140,
     "metadata": {},
     "output_type": "execute_result"
    }
   ],
   "source": [
    "#2\n",
    "rFile = r'D:\\Tim\\ML course\\data_wrangling_xml\\data\\mondial_database.xml'\n",
    "outDic={}\n",
    "document_tree = ET.parse(rFile)\n",
    "for country in document_tree.findall('country'):\n",
    "    countryName = country.find('name').text\n",
    "\n",
    "    for city in country.getchildren():  #   This is for the country / city form\n",
    "        if city.tag == 'city':\n",
    "\n",
    "            name=city.find('name').text\n",
    "            cDic={}\n",
    "            for popCount in city.getchildren():\n",
    "                if popCount.tag == 'population':\n",
    "                    cDic[int(popCount.attrib['year'])] = int(popCount.text)\n",
    "\n",
    "            df=pd.DataFrame(list(cDic.items()), columns=['Year', 'Pop'])\n",
    "            df.sort_values('Year', ascending=False)\n",
    "            if len(df.index) > 0:\n",
    "                latestPop=df.sort_values('Year', ascending=False).iloc[0,1]\n",
    "                outDic[countryName + \": \" + name]=latestPop\n",
    "\n",
    "    for province in country.getchildren():  #   This is for the country / /province / city form\n",
    "        if province.tag == 'province':\n",
    "\n",
    "            for city in province.getchildren():\n",
    "                if city.tag == 'city':\n",
    "\n",
    "                    name=city.find('name').text\n",
    "                    cDic={}\n",
    "                    for popCount in city.getchildren():\n",
    "                        if popCount.tag == 'population':\n",
    "                            cDic[int(popCount.attrib['year'])] = int(popCount.text)\n",
    "\n",
    "                    df=pd.DataFrame(list(cDic.items()), columns=['Year', 'Pop'])\n",
    "                    df.sort_values('Year', ascending=False)\n",
    "                    if len(df.index) > 0:\n",
    "                        latestPop=df.sort_values('Year', ascending=False).iloc[0,1]\n",
    "                        outDic[countryName + \": \" + name]=latestPop\n",
    "\n",
    "\n",
    "\n",
    "dfOut=pd.DataFrame(list(outDic.items()), columns=['City', 'Latest Population'])\n",
    "dfOut.sort_values(by='Latest Population', ascending=False).head(10)"
   ]
  },
  {
   "cell_type": "code",
   "execution_count": 163,
   "metadata": {
    "collapsed": false
   },
   "outputs": [
    {
     "data": {
      "text/html": [
       "<div>\n",
       "<table border=\"1\" class=\"dataframe\">\n",
       "  <thead>\n",
       "    <tr style=\"text-align: right;\">\n",
       "      <th></th>\n",
       "      <th>Ethnicity</th>\n",
       "      <th>Latest Population</th>\n",
       "    </tr>\n",
       "  </thead>\n",
       "  <tbody>\n",
       "    <tr>\n",
       "      <th>77</th>\n",
       "      <td>Han Chinese</td>\n",
       "      <td>1.245059e+09</td>\n",
       "    </tr>\n",
       "    <tr>\n",
       "      <th>235</th>\n",
       "      <td>Indo-Aryan</td>\n",
       "      <td>8.718156e+08</td>\n",
       "    </tr>\n",
       "    <tr>\n",
       "      <th>131</th>\n",
       "      <td>European</td>\n",
       "      <td>4.948722e+08</td>\n",
       "    </tr>\n",
       "    <tr>\n",
       "      <th>52</th>\n",
       "      <td>African</td>\n",
       "      <td>3.183251e+08</td>\n",
       "    </tr>\n",
       "    <tr>\n",
       "      <th>107</th>\n",
       "      <td>Dravidian</td>\n",
       "      <td>3.027137e+08</td>\n",
       "    </tr>\n",
       "    <tr>\n",
       "      <th>149</th>\n",
       "      <td>Mestizo</td>\n",
       "      <td>1.577344e+08</td>\n",
       "    </tr>\n",
       "    <tr>\n",
       "      <th>262</th>\n",
       "      <td>Bengali</td>\n",
       "      <td>1.467769e+08</td>\n",
       "    </tr>\n",
       "    <tr>\n",
       "      <th>89</th>\n",
       "      <td>Russian</td>\n",
       "      <td>1.318570e+08</td>\n",
       "    </tr>\n",
       "    <tr>\n",
       "      <th>100</th>\n",
       "      <td>Japanese</td>\n",
       "      <td>1.265342e+08</td>\n",
       "    </tr>\n",
       "    <tr>\n",
       "      <th>260</th>\n",
       "      <td>Malay</td>\n",
       "      <td>1.219936e+08</td>\n",
       "    </tr>\n",
       "  </tbody>\n",
       "</table>\n",
       "</div>"
      ],
      "text/plain": [
       "       Ethnicity  Latest Population\n",
       "77   Han Chinese       1.245059e+09\n",
       "235   Indo-Aryan       8.718156e+08\n",
       "131     European       4.948722e+08\n",
       "52       African       3.183251e+08\n",
       "107    Dravidian       3.027137e+08\n",
       "149      Mestizo       1.577344e+08\n",
       "262      Bengali       1.467769e+08\n",
       "89       Russian       1.318570e+08\n",
       "100     Japanese       1.265342e+08\n",
       "260        Malay       1.219936e+08"
      ]
     },
     "execution_count": 163,
     "metadata": {},
     "output_type": "execute_result"
    }
   ],
   "source": [
    "    #3\n",
    "    rFile = r'D:\\Tim\\ML course\\data_wrangling_xml\\data\\mondial_database.xml'\n",
    "    popDic={}\n",
    "    document_tree = ET.parse(rFile)\n",
    "    for country in document_tree.findall('country'):\n",
    "        countryName = country.find('name').text\n",
    "\n",
    "        for population in country.getchildren():\n",
    "            if population.tag == 'population':\n",
    "                cDic={}\n",
    "                year=population.attrib['year']\n",
    "                pop=int(population.text)\n",
    "                cDic[year]=pop\n",
    "\n",
    "        df=pd.DataFrame(list(cDic.items()), columns=['Year', 'Pop'])\n",
    "        df.sort_values('Year', ascending=False)\n",
    "        if len(df.index) > 0:\n",
    "            latestPop=df.sort_values('Year', ascending=False).iloc[0,1]\n",
    "\n",
    "        popDic[countryName]=latestPop\n",
    "\n",
    "    #   Now loop over countries, get percents, multiply by tot pop\n",
    "    ethDic={}\n",
    "    document_tree = ET.parse(rFile)\n",
    "    document_tree = ET.parse(rFile)\n",
    "    for country in document_tree.findall('country'):\n",
    "        countryName = country.find('name').text\n",
    "\n",
    "        for ethnicgroup in country.getchildren():\n",
    "            if ethnicgroup.tag == 'ethnicgroup':\n",
    "                ethName=ethnicgroup.text\n",
    "                ethPC=float(ethnicgroup.attrib['percentage']) / 100.0\n",
    "                \n",
    "                ethDic[ethName] = ethDic.get(ethName, 0.0) + (ethPC * popDic[countryName])\n",
    "\n",
    "    #ethDic\n",
    "    dfOut=pd.DataFrame(list(ethDic.items()), columns=['Ethnicity', 'Latest Population'])\n",
    "    dfOut.sort_values(by='Latest Population', ascending=False).head(10)"
   ]
  },
  {
   "cell_type": "code",
   "execution_count": 10,
   "metadata": {
    "collapsed": false
   },
   "outputs": [
    {
     "name": "stdout",
     "output_type": "stream",
     "text": [
      "Name: Amazonas, length: 6448, country: Colombia\n"
     ]
    }
   ],
   "source": [
    "    #4a\n",
    "    rFile = r'D:\\Tim\\ML course\\data_wrangling\\data\\mondial_database.xml'\n",
    "    countryDic={}\n",
    "    document_tree = ET.parse(rFile)\n",
    "    for country in document_tree.findall('country'):\n",
    "        countryCode = country.attrib['car_code']\n",
    "        countryName = country.find('name').text\n",
    "        countryDic[countryCode]=countryName\n",
    "    \n",
    "    # Next loop over all the rivers\n",
    "    longestRivLen = 0\n",
    "    for river in document_tree.findall('river'):\n",
    "        if river.find('length') is not None:\n",
    "            rivLen = int(float(river.find('length').text))\n",
    "            if rivLen > longestRivLen:\n",
    "                rivName = river.find('name').text\n",
    "                rivCountry = countryDic[river.attrib['country'].split()[0]] #   Associate the river with the first country in the list\n",
    "                longestRivLen = rivLen\n",
    "    \n",
    "    print('Name: ' + rivName + ', length: ' + str(longestRivLen) + ', country: ' + rivCountry)"
   ]
  },
  {
   "cell_type": "code",
   "execution_count": 15,
   "metadata": {
    "collapsed": false
   },
   "outputs": [
    {
     "name": "stdout",
     "output_type": "stream",
     "text": [
      "Name: Caspian Sea, area: 386400, country: Russia\n"
     ]
    }
   ],
   "source": [
    "    #4b\n",
    "    largestLake = 0\n",
    "    for lake in document_tree.findall('lake'):\n",
    "        if lake.find('area') is not None:\n",
    "            lakeArea = int(float(lake.find('area').text))\n",
    "            if lakeArea > largestLake:\n",
    "                lakeName = lake.find('name').text\n",
    "                lakeCountry = lake.attrib['country'].split()[0] #   Associate the river with the first country in the list\n",
    "                largestLake = lakeArea\n",
    "\n",
    "    print('Name: ' + lakeName + ', area: ' + str(largestLake) + ', country: ' + countryDic[lakeCountry])"
   ]
  },
  {
   "cell_type": "code",
   "execution_count": 16,
   "metadata": {
    "collapsed": false
   },
   "outputs": [
    {
     "name": "stdout",
     "output_type": "stream",
     "text": [
      "Name: El Alto Intl, elevation: 4063, country: Bolivia\n"
     ]
    }
   ],
   "source": [
    "    #4c\n",
    "    highestAirport = 0\n",
    "    for airport in document_tree.findall('airport'):\n",
    "        if airport.find('elevation') is not None:\n",
    "            airportHeight = int(float(str(airport.find('elevation').text or '0')))    #   Converts None to '0'\n",
    "            if airportHeight > highestAirport:\n",
    "                airportName = airport.find('name').text\n",
    "                airportCountry = airport.attrib['country'].split()[0]\n",
    "                highestAirport = airportHeight\n",
    "\n",
    "    print('Name: ' + airportName + ', elevation: ' + str(highestAirport) + ', country: ' + countryDic[airportCountry])"
   ]
  },
  {
   "cell_type": "code",
   "execution_count": null,
   "metadata": {
    "collapsed": true
   },
   "outputs": [],
   "source": []
  },
  {
   "cell_type": "code",
   "execution_count": null,
   "metadata": {
    "collapsed": true
   },
   "outputs": [],
   "source": []
  },
  {
   "cell_type": "code",
   "execution_count": null,
   "metadata": {
    "collapsed": true
   },
   "outputs": [],
   "source": []
  },
  {
   "cell_type": "code",
   "execution_count": null,
   "metadata": {
    "collapsed": true
   },
   "outputs": [],
   "source": []
  },
  {
   "cell_type": "code",
   "execution_count": null,
   "metadata": {
    "collapsed": true
   },
   "outputs": [],
   "source": []
  },
  {
   "cell_type": "code",
   "execution_count": null,
   "metadata": {
    "collapsed": true
   },
   "outputs": [],
   "source": []
  },
  {
   "cell_type": "code",
   "execution_count": null,
   "metadata": {
    "collapsed": true
   },
   "outputs": [],
   "source": []
  },
  {
   "cell_type": "code",
   "execution_count": null,
   "metadata": {
    "collapsed": true
   },
   "outputs": [],
   "source": []
  },
  {
   "cell_type": "code",
   "execution_count": null,
   "metadata": {
    "collapsed": true
   },
   "outputs": [],
   "source": []
  },
  {
   "cell_type": "code",
   "execution_count": null,
   "metadata": {
    "collapsed": true
   },
   "outputs": [],
   "source": []
  },
  {
   "cell_type": "code",
   "execution_count": null,
   "metadata": {
    "collapsed": true
   },
   "outputs": [],
   "source": []
  },
  {
   "cell_type": "code",
   "execution_count": null,
   "metadata": {
    "collapsed": true
   },
   "outputs": [],
   "source": []
  }
 ],
 "metadata": {
  "kernelspec": {
   "display_name": "Python 3",
   "language": "python",
   "name": "python3"
  },
  "language_info": {
   "codemirror_mode": {
    "name": "ipython",
    "version": 3
   },
   "file_extension": ".py",
   "mimetype": "text/x-python",
   "name": "python",
   "nbconvert_exporter": "python",
   "pygments_lexer": "ipython3",
   "version": "3.4.5"
  }
 },
 "nbformat": 4,
 "nbformat_minor": 0
}
